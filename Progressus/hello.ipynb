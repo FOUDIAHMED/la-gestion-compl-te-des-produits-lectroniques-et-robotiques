{
 "cells": [
  {
   "cell_type": "code",
   "execution_count": 1,
   "metadata": {},
   "outputs": [],
   "source": [
    "\n",
    "from newspaper import Article\n",
    "# import nltk,urllib\n"
   ]
  },
  {
   "cell_type": "code",
   "execution_count": 2,
   "metadata": {},
   "outputs": [
    {
     "name": "stdout",
     "output_type": "stream",
     "text": [
      "Title: Real Madrid v FC Barcelona (1943 Copa del Generalísimo)\n",
      "Authors: []\n",
      "Publish Date: None\n",
      "Text: Football match\n",
      "\n",
      "On 13 June 1943, Real Madrid defeated Barcelona 11–1 in the second leg of the Copa del Generalísimo semi-finals, the Spanish Cup having been renamed in honor of General Franco.[note 1][1]\n",
      "\n",
      "In the first leg at Les Corts, Barcelona defeated Real Madrid 3–0, in an intense match. During the next few days, the Madrid press exaggerated the attitude of Barcelona's fans, and clamored for an exceptional answer from Real Madrid supporters. The hostility of Madrid fans (and some strange decisions of the referee) at the start of the second leg (some players of Barcelona said they \"feared for their lives\") helped Real Madrid to an 8–0 lead at half time and 11–1 at the end of the match, thus advancing to the final 11–4 on aggregate, which they lost to Athletic Bilbao.[2] Barcelona's president was dismissed, and some months later Real Madrid's president, Santiago Bernabéu, offered his excuses.[2]\n",
      "\n",
      "The 1943 Copa semi-final is often listed as one of the most controversial games in the history of Spanish football. Thanks to its resounding result, behind-the-scenes drama, and controversy for a total of 12 goals in just 90 minutes, this match is regarded as one of the most notable football matches of the first half of the 20th century. Some historians ascribe the match a lasting impact on both Madrid and Catalonia's football history, contributing to the birth of the well-known football rivalry between Real Madrid and Barcelona.[1][3][4] Fernando Argila, Barcelona's reserve goalkeeper from the game, said, \"There was no rivalry. Not, at least, until that game.\"[3]\n",
      "\n",
      "Background [ edit ]\n",
      "\n",
      "Barcelona were the defending champions since they had won the previous season after beating Athletic Bilbao in the final. On route to the semi-finals, Barça had defeated the likes of RC Celta de Vigo and SD Ceuta.[2] On the other hand, Madrid was appearing in the semi-finals for the first time since 1940, and on route to the semi-finals, they Español and Xerez CD, needing a tie-breaker/play-off to beat the former (2–0).[2]\n",
      "\n",
      "Summary [ edit ]\n",
      "\n",
      "The first leg, played at the Les Corts in Catalonia, had ended with Barcelona winning 3–0. Madrid complained about all the three goals that referee Fombona Fernández had allowed for Barcelona,[3] with the home supporters also whistling Madrid throughout, whom they accused of employing roughhouse tactics, and Fombona for allowing them to. The newspaper Ya reported the whistling as a \"clear intention to attack the representatives of Spain.\"[5] Barcelona fans were banned from traveling to Madrid. On the day of the second leg, the Barcelona team was insulted and stones were thrown at their bus as soon as they left their hotel. Barcelona's striker Mariano Gonzalvo said of the incident, \"Five minutes before the game had started, our penalty area was already full of coins.\" Barcelona goalkeeper Lluis Miró rarely approached his line—when he did, he was armed with stones. As Francisco Calvet told the story, \"They were shouting: Reds! Separatists!... a bottle just missed Sospedra that would have killed him if it had hit him. It was all set up.\"[3]\n",
      "\n",
      "Players of Real Madrid celebrating the 3rd. goal\n",
      "\n",
      "Real Madrid went 2–0 up within half an hour thanks to a brace from Pruden. In the 31st minute, Sabino Barinaga's scored Madrid's third goal of the night, which led to a red card for Barcelona's Benito García after he made what Calvet claimed was a \"completely normal tackle\". Madrid's José Llopis Corona recalled, \"At which point, they got a bit demoralized,\" while Ángel Mur countered, \"at which point, we thought: 'go on then, score as many as you want'.\" And indeed, Madrid scored in minutes 31', 35', 37', 39', 43', and 44', making it 8–0 at half-time; with a further two goals being also ruled out for offside.[6]\n",
      "\n",
      "The stadium's board displaying the 11–1 in favour of Real Madrid\n",
      "\n",
      "Both Pruden and Barinaga completed their hat-tricks in the first half, with the latter adding a fourth to his tally in the 87th minute, to give an unprecedented 11–0 lead to Madrid, however, Barcelona managed to salvage a small measure of dignity and honor with a consolation goal right at the end thanks to Mariano Martín.[6] Juan Samaranch wrote: \"In that atmosphere and with a referee who wanted to avoid any complications, it was humanly impossible to play... If the azulgranas had played badly, really badly, the scoreboard would still not have reached that astronomical figure. The point is that they did not play at all.\"[7][8] According to football writer Sid Lowe, \"There have been relatively few mentions of the game [since] and it is not a result that has been particularly celebrated in Madrid. Indeed, the 11–1 occupies a far more prominent place in Barcelona's history. This was the game that first formed the identification of Madrid as the team of the dictatorship and Barcelona as its victims.\"[3] Fernando Argila, Barcelona's reserve goalkeeper from the game, said, \"There was no rivalry. Not, at least, until that game.\"[3]\n",
      "\n",
      "Replay details [ edit ]\n"
     ]
    }
   ],
   "source": [
    "from newspaper import Article\n",
    "\n",
    "# Replace 'your_article_url' with the actual URL of the article you want to analyze\n",
    "article_url = 'https://en.wikipedia.org/wiki/Real_Madrid_v_FC_Barcelona_(1943_Copa_del_General%C3%ADsimo)'\n",
    "# article_url = 'https://books.toscrape.com/catalogue/'\n",
    "\n",
    "# Create an Article object\n",
    "article = Article(article_url)\n",
    "\n",
    "# Download and parse the article\n",
    "article.download()\n",
    "article.parse()\n",
    "\n",
    "# Print the article's title\n",
    "print(\"Title:\", article.title)\n",
    "\n",
    "# Print the article's authors\n",
    "print(\"Authors:\", article.authors)\n",
    "\n",
    "# Print the publication date of the article\n",
    "print(\"Publish Date:\", article.publish_date)\n",
    "\n",
    "# Print the main text of the article\n",
    "print(\"Text:\", article.text)\n",
    "\n",
    "\n"
   ]
  }
 ],
 "metadata": {
  "kernelspec": {
   "display_name": "Python 3",
   "language": "python",
   "name": "python3"
  },
  "language_info": {
   "codemirror_mode": {
    "name": "ipython",
    "version": 3
   },
   "file_extension": ".py",
   "mimetype": "text/x-python",
   "name": "python",
   "nbconvert_exporter": "python",
   "pygments_lexer": "ipython3",
   "version": "3.11.6"
  }
 },
 "nbformat": 4,
 "nbformat_minor": 2
}
